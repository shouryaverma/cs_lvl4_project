{
  "nbformat": 4,
  "nbformat_minor": 0,
  "metadata": {
    "colab": {
      "name": "cross_val.ipynb",
      "provenance": []
    },
    "kernelspec": {
      "display_name": "Python 3",
      "name": "python3"
    }
  },
  "cells": [
    {
      "cell_type": "code",
      "metadata": {
        "id": "TUKS7k3mODG3"
      },
      "source": [
        "from sklearn.model_selection import StratifiedKFold\r\n",
        "from sklearn.model_selection import cross_validate\r\n",
        "from sklearn.ensemble import GradientBoostingClassifier\r\n",
        "from sklearn.ensemble import AdaBoostClassifier\r\n",
        "from sklearn.ensemble import RandomForestClassifier\r\n",
        "from sklearn.naive_bayes import GaussianNB\r\n",
        "from sklearn.neural_network import MLPClassifier\r\n",
        "from sklearn.pipeline import make_pipeline\r\n",
        "from sklearn.preprocessing import StandardScaler\r\n",
        "from sklearn.svm import SVC\r\n",
        "\r\n",
        "import warnings\r\n",
        "warnings.filterwarnings(\"ignore\")"
      ],
      "execution_count": 27,
      "outputs": []
    },
    {
      "cell_type": "code",
      "metadata": {
        "colab": {
          "base_uri": "https://localhost:8080/"
        },
        "id": "YpQmp_yxFg22",
        "outputId": "77c77efe-2c9f-4ccc-81ea-33a135f1e890"
      },
      "source": [
        "import numpy as np\r\n",
        "import glob\r\n",
        "import matplotlib.pyplot as plt\r\n",
        "import pandas as pd\r\n",
        "from scipy import *\r\n",
        "\r\n",
        "data = np.empty(shape=[0, 222])\r\n",
        "\r\n",
        "all_data = glob.glob('./drive/MyDrive/compsci/all_data.csv')\r\n",
        "\r\n",
        "for j in all_data:\r\n",
        "    print('Loading ', j)\r\n",
        "    csvrows = np.loadtxt(j, delimiter=',')\r\n",
        "    data = np.append(data, csvrows, axis=0)\r\n",
        "\r\n",
        "print(data.shape)"
      ],
      "execution_count": 28,
      "outputs": [
        {
          "output_type": "stream",
          "text": [
            "Loading  ./drive/MyDrive/compsci/all_data.csv\n",
            "(151452, 222)\n"
          ],
          "name": "stdout"
        }
      ]
    },
    {
      "cell_type": "code",
      "metadata": {
        "id": "mx1ZVVIrGH5J"
      },
      "source": [
        "X = data[:,:-2]\r\n",
        "y = data[:,-2]"
      ],
      "execution_count": 29,
      "outputs": []
    },
    {
      "cell_type": "code",
      "metadata": {
        "id": "xhUnRIROFwrN"
      },
      "source": [
        "gbc_clf = GradientBoostingClassifier(n_estimators=100,random_state=48)\r\n",
        "ada_clf = AdaBoostClassifier(n_estimators=100,random_state=48)\r\n",
        "rfc_clf = RandomForestClassifier(max_depth=10, random_state=48,n_estimators=10)\r\n",
        "NB_clf = GaussianNB()\r\n",
        "NNMLP_clf = MLPClassifier(random_state=48, max_iter=100)\r\n",
        "svc_clf = make_pipeline(StandardScaler(), SVC(gamma='auto'))\r\n",
        "\r\n",
        "n_folds = StratifiedKFold(n_splits = 6,shuffle= False ,random_state =48)"
      ],
      "execution_count": 30,
      "outputs": []
    },
    {
      "cell_type": "code",
      "metadata": {
        "id": "pjdL8OiFPyEz"
      },
      "source": [
        "scoring = {'accuracy': 'accuracy',\r\n",
        "           'prec_macro': 'precision_macro',\r\n",
        "           'rec_macro': 'recall_macro',\r\n",
        "           'f1_macro': 'f1_macro'}"
      ],
      "execution_count": 31,
      "outputs": []
    },
    {
      "cell_type": "code",
      "metadata": {
        "colab": {
          "base_uri": "https://localhost:8080/"
        },
        "id": "iO45WIigbeCy",
        "outputId": "2c2e6409-8f38-4aaf-ca96-5456e8f12e77"
      },
      "source": [
        "ada = cross_validate(ada_clf ,X,y,cv=n_folds,scoring =scoring)\r\n",
        "print('ada score: ',ada)\r\n",
        "print('--------------------------------------------------------------------------------------------------------')\r\n",
        "rfc = cross_validate(rfc_clf ,X,y,cv=n_folds,scoring =scoring)\r\n",
        "print('rfc score: ',rfc)\r\n",
        "print('--------------------------------------------------------------------------------------------------------')\r\n",
        "NB = cross_validate(NB_clf ,X,y,cv=n_folds,scoring =scoring)\r\n",
        "print('NB score: ',NB)\r\n",
        "print('--------------------------------------------------------------------------------------------------------')\r\n",
        "NNMLP = cross_validate(NNMLP_clf ,X,y,cv=n_folds,scoring =scoring)\r\n",
        "print('NNMLP score: ',NNMLP)\r\n",
        "print('--------------------------------------------------------------------------------------------------------')\r\n",
        "svc = cross_validate(svc_clf ,X,y,cv=n_folds,scoring =scoring)\r\n",
        "print('svc score: ',svc)"
      ],
      "execution_count": 32,
      "outputs": [
        {
          "output_type": "stream",
          "text": [
            "ada score:  {'fit_time': array([593.67027783, 590.14921999, 586.47153735, 587.08071232,\n",
            "       586.55754781, 593.02368736]), 'score_time': array([2.25231218, 2.23539925, 2.27471614, 2.23945904, 2.23752856,\n",
            "       2.24986124]), 'test_accuracy': array([0.74728627, 0.69285318, 0.72910229, 0.83226369, 0.81194042,\n",
            "       0.82041835]), 'test_prec_macro': array([0.30843925, 0.39413839, 0.35981792, 0.47842174, 0.29709635,\n",
            "       0.40506096]), 'test_rec_macro': array([0.25176287, 0.29945686, 0.34495462, 0.3346276 , 0.25696864,\n",
            "       0.29889129]), 'test_f1_macro': array([0.24122488, 0.32882251, 0.34045842, 0.36437765, 0.25527602,\n",
            "       0.30791171])}\n",
            "--------------------------------------------------------------------------------------------------------\n",
            "rfc score:  {'fit_time': array([21.12967205, 21.32598662, 21.17011929, 21.23944426, 21.21314645,\n",
            "       21.43212938]), 'score_time': array([0.09104347, 0.08750677, 0.08953238, 0.0880754 , 0.08705878,\n",
            "       0.08782387]), 'test_accuracy': array([0.94509151, 0.93823786, 0.90991205, 0.89089613, 0.95028128,\n",
            "       0.86340227]), 'test_prec_macro': array([0.78842433, 0.81948987, 0.67234172, 0.8116754 , 0.9181734 ,\n",
            "       0.69662641]), 'test_rec_macro': array([0.62778733, 0.62810241, 0.59945773, 0.64743275, 0.74400987,\n",
            "       0.53782036]), 'test_f1_macro': array([0.65458453, 0.68352576, 0.61353741, 0.65380912, 0.78348763,\n",
            "       0.52906008])}\n",
            "--------------------------------------------------------------------------------------------------------\n",
            "NB score:  {'fit_time': array([0.55873752, 0.431108  , 0.43778062, 0.43192697, 0.43958426,\n",
            "       0.44945312]), 'score_time': array([0.3978858 , 0.34606552, 0.35405922, 0.3445518 , 0.33985734,\n",
            "       0.34500241]), 'test_accuracy': array([0.31610015, 0.46165122, 0.37584185, 0.41284367, 0.35599398,\n",
            "       0.36360035]), 'test_prec_macro': array([0.25136811, 0.49146357, 0.40417654, 0.31786864, 0.34631924,\n",
            "       0.26442785]), 'test_rec_macro': array([0.49064974, 0.60794467, 0.47305506, 0.49418438, 0.59079385,\n",
            "       0.32632389]), 'test_f1_macro': array([0.22606596, 0.48192747, 0.35033118, 0.29124791, 0.33580627,\n",
            "       0.14461332])}\n",
            "--------------------------------------------------------------------------------------------------------\n",
            "NNMLP score:  {'fit_time': array([165.98949575, 165.30507994, 167.49027371, 166.55398107,\n",
            "       167.96410728, 168.56676769]), 'score_time': array([0.16712236, 0.12616062, 0.13145828, 0.12851572, 0.12566209,\n",
            "       0.12814641]), 'test_accuracy': array([0.82838127, 0.91557721, 0.79807464, 0.66496316, 0.65581174,\n",
            "       0.76959037]), 'test_prec_macro': array([0.57106229, 0.80525225, 0.58937812, 0.7102489 , 0.66305254,\n",
            "       0.66069001]), 'test_rec_macro': array([0.75472598, 0.89537902, 0.70184704, 0.81166074, 0.84285553,\n",
            "       0.63988648]), 'test_f1_macro': array([0.61865565, 0.8313654 , 0.587824  , 0.67030656, 0.67160839,\n",
            "       0.52240572])}\n",
            "--------------------------------------------------------------------------------------------------------\n",
            "svc score:  {'fit_time': array([642.30292201, 646.53838873, 575.00823545, 709.41671395,\n",
            "       750.34017038, 744.55916381]), 'score_time': array([ 94.51631951, 100.8772769 ,  92.34038115,  98.26870108,\n",
            "       106.30826044, 108.08605218]), 'test_accuracy': array([0.93677205, 0.96684098, 0.89549164, 0.77569131, 0.94180334,\n",
            "       0.92690754]), 'test_prec_macro': array([0.79586667, 0.90091636, 0.68223593, 0.74609379, 0.82913171,\n",
            "       0.8356737 ]), 'test_rec_macro': array([0.73396577, 0.8543839 , 0.74048629, 0.824423  , 0.91494934,\n",
            "       0.77623234]), 'test_f1_macro': array([0.73831965, 0.86526215, 0.70052789, 0.70673416, 0.84192144,\n",
            "       0.73884909])}\n"
          ],
          "name": "stdout"
        }
      ]
    },
    {
      "cell_type": "code",
      "metadata": {
        "id": "s1ZLCIIubXOt"
      },
      "source": [
        "# gbc = cross_validate(gbc_clf ,X,y,cv=n_folds,scoring =scoring)\r\n",
        "# print('gbc score: ',gbc)"
      ],
      "execution_count": 33,
      "outputs": []
    }
  ]
}