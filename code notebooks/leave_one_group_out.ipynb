{
  "nbformat": 4,
  "nbformat_minor": 0,
  "metadata": {
    "colab": {
      "name": "leave_one_group_out.ipynb",
      "provenance": []
    },
    "kernelspec": {
      "name": "python3",
      "display_name": "Python 3"
    }
  },
  "cells": [
    {
      "cell_type": "code",
      "metadata": {
        "colab": {
          "base_uri": "https://localhost:8080/"
        },
        "id": "YpQmp_yxFg22",
        "outputId": "03fbccdf-2d3a-46a3-c193-2103ceaa595a"
      },
      "source": [
        "import numpy as np\r\n",
        "import glob\r\n",
        "import matplotlib.pyplot as plt\r\n",
        "import pandas as pd\r\n",
        "from scipy import *\r\n",
        "\r\n",
        "train_values = np.empty(shape=[0, 222])\r\n",
        "test_values = np.empty(shape=[0, 222])\r\n",
        "\r\n",
        "train_sampled_all = glob.glob('./drive/MyDrive/compsci/train_sampled_all_220.csv')\r\n",
        "# test_sampled_all = glob.glob('./drive/MyDrive/compsci/test_sampled_all_centered_220.csv')\r\n",
        "test_unsampled_all = glob.glob('./drive/MyDrive/compsci/test_unsampled_all_220.csv')\r\n",
        "\r\n",
        "for j in train_sampled_all:\r\n",
        "    print('Loading ', j)\r\n",
        "    csvrows = np.loadtxt(j, delimiter=',')\r\n",
        "    train_values = np.append(train_values, csvrows, axis=0)\r\n",
        "    \r\n",
        "# for j in test_all:\r\n",
        "#     print('Loading ', j)\r\n",
        "#     csvrows = np.loadtxt(j, delimiter=',')\r\n",
        "#     test_values = np.append(test_values, csvrows, axis=0)\r\n",
        "\r\n",
        "for j in test_unsampled_all:\r\n",
        "    print('Loading ', j)\r\n",
        "    csvrows = np.loadtxt(j, delimiter=',')\r\n",
        "    test_values = np.append(test_values, csvrows, axis=0)\r\n",
        "    \r\n",
        "print(train_values.shape)\r\n",
        "print(test_values.shape)"
      ],
      "execution_count": 1,
      "outputs": [
        {
          "output_type": "stream",
          "text": [
            "Loading  ./drive/MyDrive/compsci/train_sampled_all_220.csv\n",
            "Loading  ./drive/MyDrive/compsci/test_unsampled_all_220.csv\n",
            "(31912, 222)\n",
            "(37863, 222)\n"
          ],
          "name": "stdout"
        }
      ]
    },
    {
      "cell_type": "code",
      "metadata": {
        "id": "mx1ZVVIrGH5J"
      },
      "source": [
        "X_train = train_values[:,:-2]\r\n",
        "X_test = test_values[:,:-2]\r\n",
        "\r\n",
        "y_train = train_values[:,-2]\r\n",
        "y_test = test_values[:,-2]"
      ],
      "execution_count": 2,
      "outputs": []
    },
    {
      "cell_type": "code",
      "metadata": {
        "colab": {
          "base_uri": "https://localhost:8080/"
        },
        "id": "xhUnRIROFwrN",
        "outputId": "7f258ddd-0390-4bb7-97f5-19b27f1a8c6f"
      },
      "source": [
        "import numpy as np\r\n",
        "from sklearn.model_selection import LeaveOneGroupOut\r\n",
        "\r\n",
        "X = X_train\r\n",
        "y = y_train\r\n",
        "groups = y_test\r\n",
        "logo = LeaveOneGroupOut()\r\n",
        "logo.get_n_splits(X, y, groups)\r\n",
        "\r\n",
        "logo.get_n_splits(groups=groups)"
      ],
      "execution_count": 3,
      "outputs": [
        {
          "output_type": "execute_result",
          "data": {
            "text/plain": [
              "8"
            ]
          },
          "metadata": {
            "tags": []
          },
          "execution_count": 3
        }
      ]
    },
    {
      "cell_type": "code",
      "metadata": {
        "colab": {
          "base_uri": "https://localhost:8080/"
        },
        "id": "6Pa5l3_9Hmz7",
        "outputId": "d317e9d0-f975-4a9c-8a23-44edd9e33e1c"
      },
      "source": [
        "groups = np.sort(groups[:y.size])\r\n",
        "groups.size"
      ],
      "execution_count": 4,
      "outputs": [
        {
          "output_type": "execute_result",
          "data": {
            "text/plain": [
              "31912"
            ]
          },
          "metadata": {
            "tags": []
          },
          "execution_count": 4
        }
      ]
    },
    {
      "cell_type": "code",
      "metadata": {
        "id": "GZeBmwNCHnOT"
      },
      "source": [
        "# using random forest classifier\r\n",
        "from sklearn.ensemble import RandomForestClassifier\r\n",
        "rfc_clf = RandomForestClassifier(max_depth=10, random_state=48,n_estimators=10)"
      ],
      "execution_count": 5,
      "outputs": []
    },
    {
      "cell_type": "code",
      "metadata": {
        "colab": {
          "base_uri": "https://localhost:8080/"
        },
        "id": "h0f-DJjZGY2U",
        "outputId": "d4b4e376-9d77-4dff-a975-0567955a618f"
      },
      "source": [
        "i=1\r\n",
        "for train_index, test_index in logo.split(X, y, groups):\r\n",
        "    X_train, X_test = X[train_index], X[test_index]\r\n",
        "    y_train, y_test = y[train_index], y[test_index]\r\n",
        "    rfc_clf.fit(X_train, y_train)\r\n",
        "    print('class : ',i,'score: ',rfc_clf.score(X_test, y_test))\r\n",
        "    i+=1"
      ],
      "execution_count": 6,
      "outputs": [
        {
          "output_type": "stream",
          "text": [
            "class :  1 score:  0.9272337265902153\n",
            "class :  2 score:  0.9544138929088278\n",
            "class :  3 score:  0.944811320754717\n",
            "class :  4 score:  0.9516129032258065\n",
            "class :  5 score:  0.951937984496124\n",
            "class :  6 score:  0.9523809523809523\n",
            "class :  7 score:  0.9476584022038568\n",
            "class :  8 score:  0.944\n"
          ],
          "name": "stdout"
        }
      ]
    },
    {
      "cell_type": "code",
      "metadata": {
        "id": "nPtM3kGiIgHR"
      },
      "source": [
        "from sklearn.model_selection import cross_val_score\r\n",
        "scores = cross_val_score(rfc_clf, \r\n",
        "                         X, y,\r\n",
        "                         groups=groups, \r\n",
        "                         cv=logo) # LeaveOneGroupOut"
      ],
      "execution_count": 7,
      "outputs": []
    },
    {
      "cell_type": "code",
      "metadata": {
        "colab": {
          "base_uri": "https://localhost:8080/"
        },
        "id": "b88ZFc15I667",
        "outputId": "f42f647e-2161-4fbb-c07c-7525f4a27a51"
      },
      "source": [
        "scores.mean(), scores.std(), scores.size"
      ],
      "execution_count": 8,
      "outputs": [
        {
          "output_type": "execute_result",
          "data": {
            "text/plain": [
              "(0.9467561478200625, 0.008170347968187438, 8)"
            ]
          },
          "metadata": {
            "tags": []
          },
          "execution_count": 8
        }
      ]
    }
  ]
}