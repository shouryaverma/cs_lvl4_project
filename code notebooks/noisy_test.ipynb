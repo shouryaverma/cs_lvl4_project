{
  "nbformat": 4,
  "nbformat_minor": 0,
  "metadata": {
    "colab": {
      "name": "noisy_test.ipynb",
      "provenance": []
    },
    "kernelspec": {
      "name": "python3",
      "display_name": "Python 3"
    },
    "accelerator": "GPU"
  },
  "cells": [
    {
      "cell_type": "code",
      "metadata": {
        "id": "a5E3Rn2b5oKK"
      },
      "source": [
        "import numpy as np\r\n",
        "import pandas as pd\r\n",
        "import os\r\n",
        "import seaborn as sns\r\n",
        "import matplotlib.pyplot as plt\r\n",
        "from pylab import rcParams\r\n",
        "from scipy.stats.stats import kendalltau\r\n",
        "from sklearn.metrics import accuracy_score, f1_score, precision_score, recall_score, classification_report, confusion_matrix\r\n",
        "from sklearn.model_selection import cross_val_score, GridSearchCV, RandomizedSearchCV\r\n",
        "from keras.wrappers.scikit_learn import KerasClassifier\r\n",
        "from sklearn.model_selection import StratifiedKFold\r\n",
        "from sklearn.model_selection import train_test_split\r\n",
        "from sklearn.metrics import f1_score\r\n",
        "from keras.utils.np_utils import to_categorical\r\n",
        "from sklearn.utils import class_weight\r\n",
        "from sklearn.metrics import log_loss\r\n",
        "import tensorflow as tf\r\n",
        "from tensorflow import keras\r\n",
        "from tensorflow.keras import layers\r\n",
        "from tensorflow.keras import Input\r\n",
        "from tensorflow.keras.models import Sequential\r\n",
        "from tensorflow.keras.layers import Dense, BatchNormalization\r\n",
        "from tensorflow.keras.models import Model, load_model\r\n",
        "from tensorflow.keras.utils import to_categorical\r\n",
        "from tensorflow.keras.layers import Dropout\r\n",
        "from tensorflow.keras.layers import Flatten\r\n",
        "from tensorflow.keras.layers import Conv1D, Conv1DTranspose\r\n",
        "from tensorflow.keras.layers import Conv2D\r\n",
        "from tensorflow.keras.layers import LSTM, Masking\r\n",
        "from tensorflow.keras.layers import MaxPooling1D, GlobalAveragePooling1D\r\n",
        "from tensorflow.keras.layers import MaxPooling2D\r\n",
        "from tensorflow.keras import activations\r\n",
        "sns.set()"
      ],
      "execution_count": 84,
      "outputs": []
    },
    {
      "cell_type": "code",
      "metadata": {
        "colab": {
          "base_uri": "https://localhost:8080/"
        },
        "id": "IsSJx_3y5qeC",
        "outputId": "b42a96d4-c70a-475c-eb23-b27612a356c9"
      },
      "source": [
        "import numpy as np\r\n",
        "import glob\r\n",
        "import matplotlib.pyplot as plt\r\n",
        "import pandas as pd\r\n",
        "from scipy import *\r\n",
        "\r\n",
        "train_values = np.empty(shape=[0, 222])\r\n",
        "test_values = np.empty(shape=[0, 222])\r\n",
        "\r\n",
        "train_sampled_all = glob.glob('./drive/MyDrive/compsci/train_sampled_all_220.csv')\r\n",
        "# test_sampled_all = glob.glob('./drive/MyDrive/compsci/test_sampled_all_centered_220.csv')\r\n",
        "test_unsampled_all = glob.glob('./drive/MyDrive/compsci/test_unsampled_all_220.csv')\r\n",
        "\r\n",
        "for j in train_sampled_all:\r\n",
        "    print('Loading ', j)\r\n",
        "    csvrows = np.loadtxt(j, delimiter=',')\r\n",
        "    train_values = np.append(train_values, csvrows, axis=0)\r\n",
        "    \r\n",
        "# for j in test_all:\r\n",
        "#     print('Loading ', j)\r\n",
        "#     csvrows = np.loadtxt(j, delimiter=',')\r\n",
        "#     test_values = np.append(test_values, csvrows, axis=0)\r\n",
        "\r\n",
        "for j in test_unsampled_all:\r\n",
        "    print('Loading ', j)\r\n",
        "    csvrows = np.loadtxt(j, delimiter=',')\r\n",
        "    test_values = np.append(test_values, csvrows, axis=0)\r\n",
        "    \r\n",
        "print(train_values.shape)\r\n",
        "print(test_values.shape)"
      ],
      "execution_count": 85,
      "outputs": [
        {
          "output_type": "stream",
          "text": [
            "Loading  ./drive/MyDrive/compsci/train_sampled_all_220.csv\n",
            "Loading  ./drive/MyDrive/compsci/test_unsampled_all_220.csv\n",
            "(31912, 222)\n",
            "(37863, 222)\n"
          ],
          "name": "stdout"
        }
      ]
    },
    {
      "cell_type": "code",
      "metadata": {
        "id": "eGoaiGt45sqk"
      },
      "source": [
        "X_train = train_values[:,:-2]\r\n",
        "X_test = test_values[:,:-2]\r\n",
        "\r\n",
        "y_train = train_values[:,-2]\r\n",
        "y_test = test_values[:,-2]\r\n",
        "\r\n",
        "y_train_gc = (y_train - y_train.min())/(y_train.max()-y_train.min())*(9-1)\r\n",
        "y_test_gc = (y_test - y_test.min())/(y_test.max()-y_test.min())*(9-1)"
      ],
      "execution_count": 86,
      "outputs": []
    },
    {
      "cell_type": "code",
      "metadata": {
        "colab": {
          "base_uri": "https://localhost:8080/"
        },
        "id": "wu6xUqzb5gf1",
        "outputId": "2f69d564-6e6a-4003-ef6b-daf8dc1590bd"
      },
      "source": [
        "s = np.random.normal(0, 1, X_test.shape)\r\n",
        "noise_test = X_test+s\r\n",
        "print(noise_test.shape)"
      ],
      "execution_count": 87,
      "outputs": [
        {
          "output_type": "stream",
          "text": [
            "(37863, 220)\n"
          ],
          "name": "stdout"
        }
      ]
    },
    {
      "cell_type": "code",
      "metadata": {
        "colab": {
          "base_uri": "https://localhost:8080/",
          "height": 551
        },
        "id": "EZZY8_-m-AGV",
        "outputId": "302448f2-644a-44b6-ced1-e092c892e47f"
      },
      "source": [
        "plt.plot(X_test[1])\r\n",
        "plt.title('Normal Signal')\r\n",
        "plt.show()\r\n",
        "plt.plot(noise_test[1])\r\n",
        "plt.title('Noisy Signal')\r\n",
        "plt.show()"
      ],
      "execution_count": 88,
      "outputs": [
        {
          "output_type": "display_data",
          "data": {
            "image/png": "[encoded data removed]",
            "text/plain": [
              "<Figure size 432x288 with 1 Axes>"
            ]
          },
          "metadata": {
            "tags": []
          }
        },
        {
          "output_type": "display_data",
          "data": {
            "image/png": "[encoded data removed]",
            "text/plain": [
              "<Figure size 432x288 with 1 Axes>"
            ]
          },
          "metadata": {
            "tags": []
          }
        }
      ]
    },
    {
      "cell_type": "code",
      "metadata": {
        "id": "gvJp_VsG5zIL"
      },
      "source": [
        "X_train1 = X_train.reshape(X_train.shape + (1,1))\r\n",
        "X_test1 = noise_test.reshape(noise_test.shape + (1,1))\r\n",
        "\r\n",
        "y_train1=to_categorical(y_train)\r\n",
        "y_test1=to_categorical(y_test)"
      ],
      "execution_count": 89,
      "outputs": []
    },
    {
      "cell_type": "code",
      "metadata": {
        "colab": {
          "base_uri": "https://localhost:8080/"
        },
        "id": "t8VZUXH050c2",
        "outputId": "10a72a27-63bc-40be-8b1d-ccb8964644b1"
      },
      "source": [
        "import tensorflow as tf\r\n",
        "tf.compat.v1.disable_eager_execution()\r\n",
        "\r\n",
        "verbose, epoch, batch_size = 1, 5, 64\r\n",
        "activationFunction='relu'\r\n",
        "\r\n",
        "def getModel():\r\n",
        "    \r\n",
        "    cnnmodel = Sequential()\r\n",
        "    cnnmodel.add(Conv1D(filters=128, kernel_size=16,padding='same', activation='relu',input_shape=(X_train1.shape[1],1)))\r\n",
        "    cnnmodel.add(BatchNormalization())\r\n",
        "    cnnmodel.add(Conv1D(filters=32, kernel_size=16,padding='same', activation='relu'))\r\n",
        "    cnnmodel.add(BatchNormalization())\r\n",
        "    cnnmodel.add(Conv1D(filters=9, kernel_size=16,padding='same', activation='relu'))\r\n",
        "    cnnmodel.add(MaxPooling1D(pool_size=2,padding='same'))\r\n",
        "    cnnmodel.add(Flatten())\r\n",
        "    cnnmodel.add(Dense(512, activation='relu'))\r\n",
        "    cnnmodel.add(Dense(128, activation='relu'))\r\n",
        "    cnnmodel.add(Dense(32, activation='relu'))\r\n",
        "    cnnmodel.add(Dense(9, activation='softmax'))\r\n",
        "    cnnmodel.compile(optimizer='adam', loss='categorical_crossentropy',metrics=['accuracy'])\r\n",
        "    cnnmodel.summary()\r\n",
        "    return cnnmodel\r\n",
        "\r\n",
        "cnnmodel = getModel()"
      ],
      "execution_count": 90,
      "outputs": [
        {
          "output_type": "stream",
          "text": [
            "Model: \"sequential_8\"\n",
            "_________________________________________________________________\n",
            "Layer (type)                 Output Shape              Param #   \n",
            "=================================================================\n",
            "conv1d_15 (Conv1D)           (None, 220, 128)          2176      \n",
            "_________________________________________________________________\n",
            "batch_normalization_10 (Batc (None, 220, 128)          512       \n",
            "_________________________________________________________________\n",
            "conv1d_16 (Conv1D)           (None, 220, 32)           65568     \n",
            "_________________________________________________________________\n",
            "batch_normalization_11 (Batc (None, 220, 32)           128       \n",
            "_________________________________________________________________\n",
            "conv1d_17 (Conv1D)           (None, 220, 9)            4617      \n",
            "_________________________________________________________________\n",
            "max_pooling1d_8 (MaxPooling1 (None, 110, 9)            0         \n",
            "_________________________________________________________________\n",
            "flatten_8 (Flatten)          (None, 990)               0         \n",
            "_________________________________________________________________\n",
            "dense_32 (Dense)             (None, 512)               507392    \n",
            "_________________________________________________________________\n",
            "dense_33 (Dense)             (None, 128)               65664     \n",
            "_________________________________________________________________\n",
            "dense_34 (Dense)             (None, 32)                4128      \n",
            "_________________________________________________________________\n",
            "dense_35 (Dense)             (None, 9)                 297       \n",
            "=================================================================\n",
            "Total params: 650,482\n",
            "Trainable params: 650,162\n",
            "Non-trainable params: 320\n",
            "_________________________________________________________________\n"
          ],
          "name": "stdout"
        }
      ]
    },
    {
      "cell_type": "code",
      "metadata": {
        "colab": {
          "base_uri": "https://localhost:8080/"
        },
        "id": "mQxOcoG054uD",
        "outputId": "1008cb3f-eb7d-4faa-a2d3-5ac877b2a9bc"
      },
      "source": [
        "modelhistory= cnnmodel.fit(X_train1[:,:,:,0], y_train1, epochs=epoch, verbose=verbose, validation_split=0.2, batch_size = batch_size)"
      ],
      "execution_count": 91,
      "outputs": [
        {
          "output_type": "stream",
          "text": [
            "Train on 25529 samples, validate on 6383 samples\n",
            "Epoch 1/5\n",
            "25216/25529 [============================>.] - ETA: 0s - loss: 0.3540 - accuracy: 0.8854"
          ],
          "name": "stdout"
        },
        {
          "output_type": "stream",
          "text": [
            "/usr/local/lib/python3.7/dist-packages/tensorflow/python/keras/engine/training.py:2325: UserWarning: `Model.state_updates` will be removed in a future version. This property should not be used in TensorFlow 2.0, as `updates` are applied automatically.\n",
            "  warnings.warn('`Model.state_updates` will be removed in a future version. '\n"
          ],
          "name": "stderr"
        },
        {
          "output_type": "stream",
          "text": [
            "25529/25529 [==============================] - 4s 150us/sample - loss: 0.3513 - accuracy: 0.8862 - val_loss: 0.4729 - val_accuracy: 0.8501\n",
            "Epoch 2/5\n",
            "25529/25529 [==============================] - 3s 113us/sample - loss: 0.1241 - accuracy: 0.9606 - val_loss: 0.1781 - val_accuracy: 0.9417\n",
            "Epoch 3/5\n",
            "25529/25529 [==============================] - 3s 113us/sample - loss: 0.0838 - accuracy: 0.9725 - val_loss: 0.1011 - val_accuracy: 0.9679\n",
            "Epoch 4/5\n",
            "25529/25529 [==============================] - 3s 112us/sample - loss: 0.0642 - accuracy: 0.9785 - val_loss: 0.0953 - val_accuracy: 0.9724\n",
            "Epoch 5/5\n",
            "25529/25529 [==============================] - 3s 114us/sample - loss: 0.0592 - accuracy: 0.9801 - val_loss: 0.0858 - val_accuracy: 0.9773\n"
          ],
          "name": "stdout"
        }
      ]
    },
    {
      "cell_type": "code",
      "metadata": {
        "colab": {
          "base_uri": "https://localhost:8080/"
        },
        "id": "sM5NX6ya6DZJ",
        "outputId": "03e929c7-115a-403c-ecb9-6e515f4ec4d3"
      },
      "source": [
        "cnnpredictions = cnnmodel.predict(X_test1[:,:,:,0], verbose=1)"
      ],
      "execution_count": 92,
      "outputs": [
        {
          "output_type": "stream",
          "text": [
            "/usr/local/lib/python3.7/dist-packages/tensorflow/python/keras/engine/training.py:2325: UserWarning: `Model.state_updates` will be removed in a future version. This property should not be used in TensorFlow 2.0, as `updates` are applied automatically.\n",
            "  warnings.warn('`Model.state_updates` will be removed in a future version. '\n"
          ],
          "name": "stderr"
        }
      ]
    },
    {
      "cell_type": "code",
      "metadata": {
        "colab": {
          "base_uri": "https://localhost:8080/"
        },
        "id": "y_u90vdE6AAQ",
        "outputId": "9fd8fcd9-a0d2-4917-bcf5-e5f2b3d820b3"
      },
      "source": [
        "from sklearn import metrics\r\n",
        "cnn_predict=np.argmax(cnnpredictions,axis=1)\r\n",
        "cnn_actual_value=np.argmax(y_test1,axis=1)\r\n",
        "cnnmetrics = metrics.classification_report(cnn_actual_value, cnn_predict, digits=3)\r\n",
        "print(cnnmetrics, 'CNN metrics')"
      ],
      "execution_count": 93,
      "outputs": [
        {
          "output_type": "stream",
          "text": [
            "              precision    recall  f1-score   support\n",
            "\n",
            "           1      0.910     0.781     0.840     28703\n",
            "           2      0.994     0.100     0.182      1660\n",
            "           3      0.851     0.509     0.637      2500\n",
            "           4      0.364     0.478     0.413      1199\n",
            "           5      0.092     0.582     0.158       773\n",
            "           6      0.121     0.088     0.102       193\n",
            "           7      0.088     0.699     0.156       428\n",
            "           8      0.979     0.622     0.761      2407\n",
            "\n",
            "    accuracy                          0.705     37863\n",
            "   macro avg      0.550     0.482     0.406     37863\n",
            "weighted avg      0.867     0.705     0.754     37863\n",
            " CNN metrics\n"
          ],
          "name": "stdout"
        }
      ]
    },
    {
      "cell_type": "code",
      "metadata": {
        "colab": {
          "base_uri": "https://localhost:8080/"
        },
        "id": "e4ZkC6gFCGXV",
        "outputId": "b0620e1f-7bba-4b8e-a948-4e24b2c68a34"
      },
      "source": [
        "import tensorflow as tf\r\n",
        "tf.compat.v1.disable_eager_execution()\r\n",
        "\r\n",
        "verbose, epoch, batch_size = 1, 5, 256\r\n",
        "activationFunction='relu'\r\n",
        "\r\n",
        "def getlstmModel():\r\n",
        "    \r\n",
        "    lstmmodel = Sequential()\r\n",
        "    lstmmodel.add(LSTM(128, return_sequences=True, input_shape=(X_train1.shape[1],1)))\r\n",
        "    lstmmodel.add(LSTM(9, return_sequences=True))\r\n",
        "    lstmmodel.add(MaxPooling1D(pool_size=2))\r\n",
        "    lstmmodel.add(Flatten())\r\n",
        "    lstmmodel.add(Dense(512, activation=tf.nn.relu))    \r\n",
        "    lstmmodel.add(Dense(128, activation=tf.nn.relu))    \r\n",
        "    lstmmodel.add(Dense(32, activation=tf.nn.relu))\r\n",
        "    lstmmodel.add(Dense(9, activation='softmax'))\r\n",
        "    lstmmodel.compile(optimizer='adam', loss='categorical_crossentropy',metrics=['accuracy'])\r\n",
        "    lstmmodel.summary()\r\n",
        "    return lstmmodel\r\n",
        "\r\n",
        "lstmmodel = getlstmModel()"
      ],
      "execution_count": 94,
      "outputs": [
        {
          "output_type": "stream",
          "text": [
            "WARNING:tensorflow:Layer lstm_6 will not use cuDNN kernel since it doesn't meet the cuDNN kernel criteria. It will use generic GPU kernel as fallback when running on GPU\n",
            "WARNING:tensorflow:Layer lstm_7 will not use cuDNN kernel since it doesn't meet the cuDNN kernel criteria. It will use generic GPU kernel as fallback when running on GPU\n",
            "Model: \"sequential_9\"\n",
            "_________________________________________________________________\n",
            "Layer (type)                 Output Shape              Param #   \n",
            "=================================================================\n",
            "lstm_6 (LSTM)                (None, 220, 128)          66560     \n",
            "_________________________________________________________________\n",
            "lstm_7 (LSTM)                (None, 220, 9)            4968      \n",
            "_________________________________________________________________\n",
            "max_pooling1d_9 (MaxPooling1 (None, 110, 9)            0         \n",
            "_________________________________________________________________\n",
            "flatten_9 (Flatten)          (None, 990)               0         \n",
            "_________________________________________________________________\n",
            "dense_36 (Dense)             (None, 512)               507392    \n",
            "_________________________________________________________________\n",
            "dense_37 (Dense)             (None, 128)               65664     \n",
            "_________________________________________________________________\n",
            "dense_38 (Dense)             (None, 32)                4128      \n",
            "_________________________________________________________________\n",
            "dense_39 (Dense)             (None, 9)                 297       \n",
            "=================================================================\n",
            "Total params: 649,009\n",
            "Trainable params: 649,009\n",
            "Non-trainable params: 0\n",
            "_________________________________________________________________\n"
          ],
          "name": "stdout"
        }
      ]
    },
    {
      "cell_type": "code",
      "metadata": {
        "colab": {
          "base_uri": "https://localhost:8080/"
        },
        "id": "Yg5n1vquCJ0e",
        "outputId": "2347d185-13f4-477a-90bc-4ebd55a3f3b6"
      },
      "source": [
        "lstmmodelhistory= lstmmodel.fit(X_train1[:,:,:,0], y_train1, epochs=epoch, verbose=verbose, validation_split=0.2, batch_size = batch_size)"
      ],
      "execution_count": 95,
      "outputs": [
        {
          "output_type": "stream",
          "text": [
            "Train on 25529 samples, validate on 6383 samples\n",
            "Epoch 1/5\n",
            "25529/25529 [==============================] - ETA: 0s - loss: 0.5827 - accuracy: 0.8122"
          ],
          "name": "stdout"
        },
        {
          "output_type": "stream",
          "text": [
            "/usr/local/lib/python3.7/dist-packages/tensorflow/python/keras/engine/training.py:2325: UserWarning: `Model.state_updates` will be removed in a future version. This property should not be used in TensorFlow 2.0, as `updates` are applied automatically.\n",
            "  warnings.warn('`Model.state_updates` will be removed in a future version. '\n"
          ],
          "name": "stderr"
        },
        {
          "output_type": "stream",
          "text": [
            "\b\b\b\b\b\b\b\b\b\b\b\b\b\b\b\b\b\b\b\b\b\b\b\b\b\b\b\b\b\b\b\b\b\b\b\b\b\b\b\b\b\b\b\b\b\b\b\b\b\b\b\b\b\b\b\b\b\b\b\b\b\b\b\b\b\b\b\b\b\b\b\b\b\b\b\b\b\b\b\b\b\b\b\b\b\b\b\b\r25529/25529 [==============================] - 37s 1ms/sample - loss: 0.5827 - accuracy: 0.8122 - val_loss: 0.2120 - val_accuracy: 0.9298\n",
            "Epoch 2/5\n",
            "25529/25529 [==============================] - 37s 1ms/sample - loss: 0.1734 - accuracy: 0.9463 - val_loss: 0.1451 - val_accuracy: 0.9536\n",
            "Epoch 3/5\n",
            "25529/25529 [==============================] - 36s 1ms/sample - loss: 0.1084 - accuracy: 0.9658 - val_loss: 0.1477 - val_accuracy: 0.9524\n",
            "Epoch 4/5\n",
            "25529/25529 [==============================] - 38s 2ms/sample - loss: 0.0866 - accuracy: 0.9724 - val_loss: 0.1278 - val_accuracy: 0.9588\n",
            "Epoch 5/5\n",
            "25529/25529 [==============================] - 38s 2ms/sample - loss: 0.0643 - accuracy: 0.9789 - val_loss: 0.0865 - val_accuracy: 0.9742\n"
          ],
          "name": "stdout"
        }
      ]
    },
    {
      "cell_type": "code",
      "metadata": {
        "colab": {
          "base_uri": "https://localhost:8080/"
        },
        "id": "KCmdIb9bCM5N",
        "outputId": "e277a1bd-64cc-47a7-8b31-3f4b588d4375"
      },
      "source": [
        "lstmpredictions = lstmmodel.predict(X_test1[:,:,:,0], verbose=1)"
      ],
      "execution_count": 96,
      "outputs": [
        {
          "output_type": "stream",
          "text": [
            "/usr/local/lib/python3.7/dist-packages/tensorflow/python/keras/engine/training.py:2325: UserWarning: `Model.state_updates` will be removed in a future version. This property should not be used in TensorFlow 2.0, as `updates` are applied automatically.\n",
            "  warnings.warn('`Model.state_updates` will be removed in a future version. '\n"
          ],
          "name": "stderr"
        }
      ]
    },
    {
      "cell_type": "code",
      "metadata": {
        "colab": {
          "base_uri": "https://localhost:8080/"
        },
        "id": "6GcU_8NGCO-j",
        "outputId": "1325860c-f3ff-4e70-9ab6-14530eeb9b41"
      },
      "source": [
        "lstm_predict=np.argmax(lstmpredictions,axis=1)\r\n",
        "lstm_actual_value=np.argmax(y_test1,axis=1)\r\n",
        "lstmmetrics = metrics.classification_report(lstm_actual_value, lstm_predict, digits=3)\r\n",
        "print(lstmmetrics, 'lstm metrics')"
      ],
      "execution_count": 97,
      "outputs": [
        {
          "output_type": "stream",
          "text": [
            "              precision    recall  f1-score   support\n",
            "\n",
            "           1      0.960     0.703     0.811     28703\n",
            "           2      0.900     0.407     0.561      1660\n",
            "           3      0.803     0.519     0.631      2500\n",
            "           4      0.247     0.833     0.381      1199\n",
            "           5      0.100     0.744     0.176       773\n",
            "           6      0.090     0.580     0.156       193\n",
            "           7      0.189     0.614     0.289       428\n",
            "           8      0.973     0.822     0.891      2407\n",
            "\n",
            "    accuracy                          0.689     37863\n",
            "   macro avg      0.533     0.653     0.487     37863\n",
            "weighted avg      0.894     0.689     0.758     37863\n",
            " lstm metrics\n"
          ],
          "name": "stdout"
        }
      ]
    }
  ]
}