{
  "nbformat": 4,
  "nbformat_minor": 0,
  "metadata": {
    "colab": {
      "name": "cross_val.ipynb",
      "provenance": []
    },
    "kernelspec": {
      "display_name": "Python 3",
      "name": "python3"
    }
  },
  "cells": [
    {
      "cell_type": "code",
      "metadata": {
        "id": "TUKS7k3mODG3"
      },
      "source": [
        "from sklearn.model_selection import StratifiedKFold\r\n",
        "from sklearn.model_selection import cross_val_score\r\n",
        "from sklearn.ensemble import GradientBoostingClassifier\r\n",
        "from sklearn.ensemble import AdaBoostClassifier\r\n",
        "from sklearn.ensemble import RandomForestClassifier\r\n",
        "from sklearn.naive_bayes import GaussianNB\r\n",
        "from sklearn.neural_network import MLPClassifier\r\n",
        "from sklearn.pipeline import make_pipeline\r\n",
        "from sklearn.preprocessing import StandardScaler\r\n",
        "from sklearn.svm import SVC"
      ],
      "execution_count": null,
      "outputs": []
    },
    {
      "cell_type": "code",
      "metadata": {
        "colab": {
          "base_uri": "https://localhost:8080/"
        },
        "id": "YpQmp_yxFg22",
        "outputId": "a96600f7-0935-4e5f-ff3c-27c8dd61d44e"
      },
      "source": [
        "import numpy as np\r\n",
        "import glob\r\n",
        "import matplotlib.pyplot as plt\r\n",
        "import pandas as pd\r\n",
        "from scipy import *\r\n",
        "\r\n",
        "data = np.empty(shape=[0, 222])\r\n",
        "\r\n",
        "all_data = glob.glob('./drive/MyDrive/compsci/test_unsampled_all_220.csv')\r\n",
        "\r\n",
        "for j in all_data:\r\n",
        "    print('Loading ', j)\r\n",
        "    csvrows = np.loadtxt(j, delimiter=',')\r\n",
        "    data = np.append(data, csvrows, axis=0)\r\n",
        "\r\n",
        "print(data.shape)"
      ],
      "execution_count": null,
      "outputs": [
        {
          "output_type": "stream",
          "text": [
            "Loading  ./drive/MyDrive/compsci/test_unsampled_all_220.csv\n",
            "(37863, 222)\n"
          ],
          "name": "stdout"
        }
      ]
    },
    {
      "cell_type": "code",
      "metadata": {
        "id": "mx1ZVVIrGH5J"
      },
      "source": [
        "X = data[:,:-2]\r\n",
        "y = data[:,-2]"
      ],
      "execution_count": null,
      "outputs": []
    },
    {
      "cell_type": "code",
      "metadata": {
        "id": "xhUnRIROFwrN",
        "colab": {
          "base_uri": "https://localhost:8080/"
        },
        "outputId": "348e5669-a833-464a-8123-64512df3c7bc"
      },
      "source": [
        "gbc_clf = GradientBoostingClassifier(n_estimators=100,random_state=48)\r\n",
        "ada_clf = AdaBoostClassifier(n_estimators=100,random_state=48)\r\n",
        "rfc_clf = RandomForestClassifier(max_depth=10, random_state=48,n_estimators=10)\r\n",
        "NB_clf = GaussianNB()\r\n",
        "NNMLP_clf = MLPClassifier(random_state=48, max_iter=100)\r\n",
        "svc_clf = make_pipeline(StandardScaler(), SVC(gamma='auto'))\r\n",
        "\r\n",
        "n_folds = StratifiedKFold(n_splits = 6,shuffle= False ,random_state =48)"
      ],
      "execution_count": null,
      "outputs": [
        {
          "output_type": "stream",
          "text": [
            "/usr/local/lib/python3.7/dist-packages/sklearn/model_selection/_split.py:296: FutureWarning: Setting a random_state has no effect since shuffle is False. This will raise an error in 0.24. You should leave random_state to its default (None), or set shuffle=True.\n",
            "  FutureWarning\n"
          ],
          "name": "stderr"
        }
      ]
    },
    {
      "cell_type": "code",
      "metadata": {
        "colab": {
          "base_uri": "https://localhost:8080/"
        },
        "id": "iO45WIigbeCy",
        "outputId": "67947710-4fca-4852-cc87-7c6401823b19"
      },
      "source": [
        "f1_ada = cross_val_score(ada_clf ,X,y,cv=n_folds,scoring ='f1_weighted')\r\n",
        "print('f1_ada score: ',f1_ada)\r\n",
        "print('f1_ada score mean: ', f1_ada.mean())\r\n",
        "\r\n",
        "precision_ada = cross_val_score(ada_clf ,X,y,cv=n_folds,scoring ='precision_weighted')\r\n",
        "print('precision_ada score: ',precision_ada)\r\n",
        "print('precision_ada score mean: ', precision_ada.mean())\r\n",
        "\r\n",
        "recall_ada = cross_val_score(ada_clf ,X,y,cv=n_folds,scoring ='recall_weighted')\r\n",
        "print('recall_ada score: ',recall_ada)\r\n",
        "print('recall_ada score mean: ', recall_ada.mean())\r\n",
        "print('--------------------------------------------------------------------------------------------------------')\r\n",
        "f1_rfc = cross_val_score(rfc_clf ,X,y,cv=n_folds,scoring ='f1_weighted')\r\n",
        "print('f1_rfc score: ',f1_rfc)\r\n",
        "print('f1_rfc score mean: ', f1_rfc.mean())\r\n",
        "\r\n",
        "precision_rfc = cross_val_score(rfc_clf ,X,y,cv=n_folds,scoring ='precision_weighted')\r\n",
        "print('precision_rfc score: ',precision_rfc)\r\n",
        "print('precision_rfc score mean: ', precision_rfc.mean())\r\n",
        "\r\n",
        "recall_rfc = cross_val_score(rfc_clf ,X,y,cv=n_folds,scoring ='recall_weighted')\r\n",
        "print('recall_rfc score: ',recall_rfc)\r\n",
        "print('recall_rfc score mean: ', recall_rfc.mean())\r\n",
        "print('--------------------------------------------------------------------------------------------------------')\r\n",
        "f1_NB = cross_val_score(NB_clf ,X,y,cv=n_folds,scoring ='f1_weighted')\r\n",
        "print('f1_NB score: ',f1_NB)\r\n",
        "print('f1_NB score mean: ', f1_NB.mean())\r\n",
        "\r\n",
        "precision_NB = cross_val_score(NB_clf ,X,y,cv=n_folds,scoring ='precision_weighted')\r\n",
        "print('precision_NB score: ',precision_NB)\r\n",
        "print('precision_NB score mean: ', precision_NB.mean())\r\n",
        "\r\n",
        "recall_NB = cross_val_score(NB_clf ,X,y,cv=n_folds,scoring ='recall_weighted')\r\n",
        "print('recall_NB score: ',recall_NB)\r\n",
        "print('recall_NB score mean: ', recall_NB.mean())\r\n",
        "print('--------------------------------------------------------------------------------------------------------')\r\n",
        "f1_NNMLP = cross_val_score(NNMLP_clf ,X,y,cv=n_folds,scoring ='f1_weighted')\r\n",
        "print('f1_NNMLP score: ',f1_NNMLP)\r\n",
        "print('f1_NNMLP score mean: ', f1_NNMLP.mean())\r\n",
        "\r\n",
        "precision_NNMLP = cross_val_score(NNMLP_clf ,X,y,cv=n_folds,scoring ='precision_weighted')\r\n",
        "print('precision_NNMLP score: ',precision_NNMLP)\r\n",
        "print('precision_NNMLP score mean: ', precision_NNMLP.mean())\r\n",
        "\r\n",
        "recall_NNMLP = cross_val_score(NNMLP_clf ,X,y,cv=n_folds,scoring ='recall_weighted')\r\n",
        "print('recall_NNMLP score: ',recall_NNMLP)\r\n",
        "print('recall_NNMLP score mean: ', recall_NNMLP.mean())\r\n",
        "print('--------------------------------------------------------------------------------------------------------')\r\n",
        "f1_svc = cross_val_score(svc_clf ,X,y,cv=n_folds,scoring ='f1_weighted')\r\n",
        "print('f1_svc score: ',f1_svc)\r\n",
        "print('f1_svc score mean: ', f1_svc.mean())\r\n",
        "\r\n",
        "precision_svc = cross_val_score(svc_clf ,X,y,cv=n_folds,scoring ='precision_weighted')\r\n",
        "print('precision_svc score: ',precision_svc)\r\n",
        "print('precision_svc score mean: ', precision_svc.mean())\r\n",
        "\r\n",
        "recall_svc = cross_val_score(svc_clf ,X,y,cv=n_folds,scoring ='recall_weighted')\r\n",
        "print('recall_svc score: ',recall_svc)\r\n",
        "print('recall_svc score mean: ', recall_svc.mean())\r\n",
        "print('--------------------------------------------------------------------------------------------------------')"
      ],
      "execution_count": null,
      "outputs": [
        {
          "output_type": "stream",
          "text": [
            "f1_ada score:  [0.74997047 0.7488674  0.73808933 0.74343173 0.73513805 0.73526868]\n",
            "f1_ada score mean:  0.7417942758047875\n"
          ],
          "name": "stdout"
        },
        {
          "output_type": "stream",
          "text": [
            "/usr/local/lib/python3.7/dist-packages/sklearn/metrics/_classification.py:1272: UndefinedMetricWarning: Precision is ill-defined and being set to 0.0 in labels with no predicted samples. Use `zero_division` parameter to control this behavior.\n",
            "  _warn_prf(average, modifier, msg_start, len(result))\n",
            "/usr/local/lib/python3.7/dist-packages/sklearn/metrics/_classification.py:1272: UndefinedMetricWarning: Precision is ill-defined and being set to 0.0 in labels with no predicted samples. Use `zero_division` parameter to control this behavior.\n",
            "  _warn_prf(average, modifier, msg_start, len(result))\n",
            "/usr/local/lib/python3.7/dist-packages/sklearn/metrics/_classification.py:1272: UndefinedMetricWarning: Precision is ill-defined and being set to 0.0 in labels with no predicted samples. Use `zero_division` parameter to control this behavior.\n",
            "  _warn_prf(average, modifier, msg_start, len(result))\n",
            "/usr/local/lib/python3.7/dist-packages/sklearn/metrics/_classification.py:1272: UndefinedMetricWarning: Precision is ill-defined and being set to 0.0 in labels with no predicted samples. Use `zero_division` parameter to control this behavior.\n",
            "  _warn_prf(average, modifier, msg_start, len(result))\n",
            "/usr/local/lib/python3.7/dist-packages/sklearn/metrics/_classification.py:1272: UndefinedMetricWarning: Precision is ill-defined and being set to 0.0 in labels with no predicted samples. Use `zero_division` parameter to control this behavior.\n",
            "  _warn_prf(average, modifier, msg_start, len(result))\n",
            "/usr/local/lib/python3.7/dist-packages/sklearn/metrics/_classification.py:1272: UndefinedMetricWarning: Precision is ill-defined and being set to 0.0 in labels with no predicted samples. Use `zero_division` parameter to control this behavior.\n",
            "  _warn_prf(average, modifier, msg_start, len(result))\n"
          ],
          "name": "stderr"
        },
        {
          "output_type": "stream",
          "text": [
            "precision_ada score:  [0.70774413 0.69429255 0.72815035 0.69326666 0.68482055 0.70222464]\n",
            "precision_ada score mean:  0.701749814279648\n",
            "recall_ada score:  [0.8184123  0.81666931 0.80050705 0.81442155 0.79952456 0.79603803]\n",
            "recall_ada score mean:  0.8075954678115497\n",
            "--------------------------------------------------------------------------------------------------------\n",
            "f1_rfc score:  [0.95979456 0.95982997 0.95616898 0.95656458 0.95845415 0.95797512]\n",
            "f1_rfc score mean:  0.9581312271629915\n",
            "precision_rfc score:  [0.96413712 0.96439033 0.96274174 0.96108432 0.96266871 0.96323917]\n",
            "precision_rfc score mean:  0.963043564180713\n",
            "recall_rfc score:  [0.96450642 0.96450642 0.96197116 0.96212361 0.96354992 0.96354992]\n",
            "recall_rfc score mean:  0.963367908505119\n",
            "--------------------------------------------------------------------------------------------------------\n",
            "f1_NB score:  [0.53861543 0.52793149 0.51676814 0.52204895 0.53374185 0.52721936]\n",
            "f1_NB score mean:  0.5277208678930995\n",
            "precision_NB score:  [0.83949516 0.84248385 0.8350661  0.8464289  0.84156724 0.8420468 ]\n",
            "precision_NB score mean:  0.8411813430729186\n",
            "recall_NB score:  [0.45808905 0.4446205  0.43432103 0.43898574 0.44833597 0.44548336]\n",
            "recall_NB score mean:  0.4449726088066159\n",
            "--------------------------------------------------------------------------------------------------------\n"
          ],
          "name": "stdout"
        },
        {
          "output_type": "stream",
          "text": [
            "/usr/local/lib/python3.7/dist-packages/sklearn/neural_network/_multilayer_perceptron.py:571: ConvergenceWarning: Stochastic Optimizer: Maximum iterations (100) reached and the optimization hasn't converged yet.\n",
            "  % self.max_iter, ConvergenceWarning)\n",
            "/usr/local/lib/python3.7/dist-packages/sklearn/neural_network/_multilayer_perceptron.py:571: ConvergenceWarning: Stochastic Optimizer: Maximum iterations (100) reached and the optimization hasn't converged yet.\n",
            "  % self.max_iter, ConvergenceWarning)\n",
            "/usr/local/lib/python3.7/dist-packages/sklearn/neural_network/_multilayer_perceptron.py:571: ConvergenceWarning: Stochastic Optimizer: Maximum iterations (100) reached and the optimization hasn't converged yet.\n",
            "  % self.max_iter, ConvergenceWarning)\n",
            "/usr/local/lib/python3.7/dist-packages/sklearn/neural_network/_multilayer_perceptron.py:571: ConvergenceWarning: Stochastic Optimizer: Maximum iterations (100) reached and the optimization hasn't converged yet.\n",
            "  % self.max_iter, ConvergenceWarning)\n",
            "/usr/local/lib/python3.7/dist-packages/sklearn/neural_network/_multilayer_perceptron.py:571: ConvergenceWarning: Stochastic Optimizer: Maximum iterations (100) reached and the optimization hasn't converged yet.\n",
            "  % self.max_iter, ConvergenceWarning)\n",
            "/usr/local/lib/python3.7/dist-packages/sklearn/neural_network/_multilayer_perceptron.py:571: ConvergenceWarning: Stochastic Optimizer: Maximum iterations (100) reached and the optimization hasn't converged yet.\n",
            "  % self.max_iter, ConvergenceWarning)\n"
          ],
          "name": "stderr"
        },
        {
          "output_type": "stream",
          "text": [
            "f1_NNMLP score:  [0.97874442 0.98085548 0.98294407 0.98270644 0.98281387 0.97922047]\n",
            "f1_NNMLP score mean:  0.9812141243033491\n"
          ],
          "name": "stdout"
        },
        {
          "output_type": "stream",
          "text": [
            "/usr/local/lib/python3.7/dist-packages/sklearn/neural_network/_multilayer_perceptron.py:571: ConvergenceWarning: Stochastic Optimizer: Maximum iterations (100) reached and the optimization hasn't converged yet.\n",
            "  % self.max_iter, ConvergenceWarning)\n",
            "/usr/local/lib/python3.7/dist-packages/sklearn/neural_network/_multilayer_perceptron.py:571: ConvergenceWarning: Stochastic Optimizer: Maximum iterations (100) reached and the optimization hasn't converged yet.\n",
            "  % self.max_iter, ConvergenceWarning)\n",
            "/usr/local/lib/python3.7/dist-packages/sklearn/neural_network/_multilayer_perceptron.py:571: ConvergenceWarning: Stochastic Optimizer: Maximum iterations (100) reached and the optimization hasn't converged yet.\n",
            "  % self.max_iter, ConvergenceWarning)\n",
            "/usr/local/lib/python3.7/dist-packages/sklearn/neural_network/_multilayer_perceptron.py:571: ConvergenceWarning: Stochastic Optimizer: Maximum iterations (100) reached and the optimization hasn't converged yet.\n",
            "  % self.max_iter, ConvergenceWarning)\n",
            "/usr/local/lib/python3.7/dist-packages/sklearn/neural_network/_multilayer_perceptron.py:571: ConvergenceWarning: Stochastic Optimizer: Maximum iterations (100) reached and the optimization hasn't converged yet.\n",
            "  % self.max_iter, ConvergenceWarning)\n",
            "/usr/local/lib/python3.7/dist-packages/sklearn/neural_network/_multilayer_perceptron.py:571: ConvergenceWarning: Stochastic Optimizer: Maximum iterations (100) reached and the optimization hasn't converged yet.\n",
            "  % self.max_iter, ConvergenceWarning)\n"
          ],
          "name": "stderr"
        },
        {
          "output_type": "stream",
          "text": [
            "precision_NNMLP score:  [0.97931157 0.98101623 0.98286242 0.98259689 0.98297374 0.97907518]\n",
            "precision_NNMLP score mean:  0.9813060056595729\n"
          ],
          "name": "stdout"
        },
        {
          "output_type": "stream",
          "text": [
            "/usr/local/lib/python3.7/dist-packages/sklearn/neural_network/_multilayer_perceptron.py:571: ConvergenceWarning: Stochastic Optimizer: Maximum iterations (100) reached and the optimization hasn't converged yet.\n",
            "  % self.max_iter, ConvergenceWarning)\n",
            "/usr/local/lib/python3.7/dist-packages/sklearn/neural_network/_multilayer_perceptron.py:571: ConvergenceWarning: Stochastic Optimizer: Maximum iterations (100) reached and the optimization hasn't converged yet.\n",
            "  % self.max_iter, ConvergenceWarning)\n",
            "/usr/local/lib/python3.7/dist-packages/sklearn/neural_network/_multilayer_perceptron.py:571: ConvergenceWarning: Stochastic Optimizer: Maximum iterations (100) reached and the optimization hasn't converged yet.\n",
            "  % self.max_iter, ConvergenceWarning)\n",
            "/usr/local/lib/python3.7/dist-packages/sklearn/neural_network/_multilayer_perceptron.py:571: ConvergenceWarning: Stochastic Optimizer: Maximum iterations (100) reached and the optimization hasn't converged yet.\n",
            "  % self.max_iter, ConvergenceWarning)\n",
            "/usr/local/lib/python3.7/dist-packages/sklearn/neural_network/_multilayer_perceptron.py:571: ConvergenceWarning: Stochastic Optimizer: Maximum iterations (100) reached and the optimization hasn't converged yet.\n",
            "  % self.max_iter, ConvergenceWarning)\n",
            "/usr/local/lib/python3.7/dist-packages/sklearn/neural_network/_multilayer_perceptron.py:571: ConvergenceWarning: Stochastic Optimizer: Maximum iterations (100) reached and the optimization hasn't converged yet.\n",
            "  % self.max_iter, ConvergenceWarning)\n"
          ],
          "name": "stderr"
        },
        {
          "output_type": "stream",
          "text": [
            "recall_NNMLP score:  [0.97892569 0.98082713 0.98320393 0.98304279 0.98304279 0.9800317 ]\n",
            "recall_NNMLP score mean:  0.9815123360606921\n",
            "--------------------------------------------------------------------------------------------------------\n",
            "f1_svc score:  [0.97819578 0.98073036 0.97549828 0.97644813 0.97903607 0.97878379]\n",
            "f1_svc score mean:  0.9781154028260817\n",
            "precision_svc score:  [0.97952525 0.98172519 0.9773267  0.97736188 0.98026152 0.97976255]\n",
            "precision_svc score mean:  0.9793271818096799\n",
            "recall_svc score:  [0.97971795 0.9819363  0.9774996  0.97797147 0.98034865 0.98019017]\n",
            "recall_svc score mean:  0.9796106932419878\n",
            "--------------------------------------------------------------------------------------------------------\n"
          ],
          "name": "stdout"
        }
      ]
    },
    {
      "cell_type": "code",
      "metadata": {
        "id": "s1ZLCIIubXOt"
      },
      "source": [
        "f1_gbc = cross_val_score(gbc_clf ,X,y,cv=n_folds,scoring ='f1_weighted')\r\n",
        "print('f1_gbc score: ',f1_gbc)\r\n",
        "print('f1_gbc score mean: ', f1_gbc.mean())\r\n",
        "\r\n",
        "precision_gbc = cross_val_score(gbc_clf ,X,y,cv=n_folds,scoring ='precision_weighted')\r\n",
        "print('precision_gbc score: ',precision_gbc)\r\n",
        "print('precision_gbc score mean: ', precision_gbc.mean())\r\n",
        "\r\n",
        "recall_gbc = cross_val_score(gbc_clf ,X,y,cv=n_folds,scoring ='recall_weighted')\r\n",
        "print('recall_gbc score: ',recall_gbc)\r\n",
        "print('recall_gbc score mean: ', recall_gbc.mean())"
      ],
      "execution_count": null,
      "outputs": []
    }
  ]
}