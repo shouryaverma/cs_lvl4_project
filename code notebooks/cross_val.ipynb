{
  "nbformat": 4,
  "nbformat_minor": 0,
  "metadata": {
    "colab": {
      "name": "cross_val.ipynb",
      "provenance": []
    },
    "kernelspec": {
      "display_name": "Python 3",
      "name": "python3"
    }
  },
  "cells": [
    {
      "cell_type": "code",
      "metadata": {
        "id": "TUKS7k3mODG3"
      },
      "source": [
        "from sklearn.model_selection import KFold\r\n",
        "from sklearn.model_selection import cross_val_score\r\n",
        "from sklearn.ensemble import GradientBoostingClassifier\r\n",
        "from sklearn.ensemble import AdaBoostClassifier\r\n",
        "from sklearn.ensemble import RandomForestClassifier\r\n",
        "from sklearn.naive_bayes import GaussianNB\r\n",
        "from sklearn.neural_network import MLPClassifier\r\n",
        "from sklearn.pipeline import make_pipeline\r\n",
        "from sklearn.preprocessing import StandardScaler\r\n",
        "from sklearn.svm import SVC"
      ],
      "execution_count": null,
      "outputs": []
    },
    {
      "cell_type": "code",
      "metadata": {
        "colab": {
          "base_uri": "https://localhost:8080/"
        },
        "id": "YpQmp_yxFg22",
        "outputId": "b27fa5b4-e99d-4105-d232-0aaae1a35ff1"
      },
      "source": [
        "import numpy as np\r\n",
        "import glob\r\n",
        "import matplotlib.pyplot as plt\r\n",
        "import pandas as pd\r\n",
        "from scipy import *\r\n",
        "\r\n",
        "data = np.empty(shape=[0, 222])\r\n",
        "\r\n",
        "all_data = glob.glob('./drive/MyDrive/compsci/all_data.csv')\r\n",
        "\r\n",
        "for j in all_data:\r\n",
        "    print('Loading ', j)\r\n",
        "    csvrows = np.loadtxt(j, delimiter=',')\r\n",
        "    data = np.append(data, csvrows, axis=0)\r\n",
        "\r\n",
        "print(data.shape)"
      ],
      "execution_count": null,
      "outputs": [
        {
          "output_type": "stream",
          "text": [
            "Loading  ./drive/MyDrive/compsci/all_data.csv\n",
            "(151452, 222)\n"
          ],
          "name": "stdout"
        }
      ]
    },
    {
      "cell_type": "code",
      "metadata": {
        "id": "mx1ZVVIrGH5J"
      },
      "source": [
        "X = data[:,:-2]\r\n",
        "y = data[:,-2]"
      ],
      "execution_count": null,
      "outputs": []
    },
    {
      "cell_type": "code",
      "metadata": {
        "id": "xhUnRIROFwrN"
      },
      "source": [
        "gbc_clf = GradientBoostingClassifier(n_estimators=100,random_state=48)\r\n",
        "ada_clf = AdaBoostClassifier(n_estimators=100,random_state=48)\r\n",
        "rfc_clf = RandomForestClassifier(max_depth=10, random_state=48,n_estimators=10)\r\n",
        "NB_clf = GaussianNB()\r\n",
        "NNMLP_clf = MLPClassifier(random_state=48, max_iter=100)\r\n",
        "svc_clf = make_pipeline(StandardScaler(), SVC(gamma='auto'))\r\n",
        "\r\n",
        "n_folds = KFold(n_splits = 6,shuffle= True ,random_state =48)"
      ],
      "execution_count": null,
      "outputs": []
    },
    {
      "cell_type": "code",
      "metadata": {
        "colab": {
          "background_save": true,
          "base_uri": "https://localhost:8080/"
        },
        "id": "iO45WIigbeCy",
        "outputId": "627d7010-cc55-48b8-ed38-c56882db4250"
      },
      "source": [
        "f1_ada = cross_val_score(ada_clf ,X,y,cv=n_folds,scoring ='f1_weighted')\r\n",
        "print('f1_ada score: ',f1_ada)\r\n",
        "print('f1_ada score mean: ', f1_ada.mean())\r\n",
        "\r\n",
        "precision_ada = cross_val_score(ada_clf ,X,y,cv=n_folds,scoring ='precision_weighted')\r\n",
        "print('precision_ada score: ',precision_ada)\r\n",
        "print('precision_ada score mean: ', precision_ada.mean())\r\n",
        "\r\n",
        "recall_ada = cross_val_score(ada_clf ,X,y,cv=n_folds,scoring ='recall_weighted')\r\n",
        "print('recall_ada score: ',recall_ada)\r\n",
        "print('recall_ada score mean: ', recall_ada.mean())\r\n",
        "print('--------------------------------------------------------------------------------------------------------')\r\n",
        "f1_rfc = cross_val_score(rfc_clf ,X,y,cv=n_folds,scoring ='f1_weighted')\r\n",
        "print('f1_rfc score: ',f1_rfc)\r\n",
        "print('f1_rfc score mean: ', f1_rfc.mean())\r\n",
        "\r\n",
        "precision_rfc = cross_val_score(rfc_clf ,X,y,cv=n_folds,scoring ='precision_weighted')\r\n",
        "print('precision_rfc score: ',precision_rfc)\r\n",
        "print('precision_rfc score mean: ', precision_rfc.mean())\r\n",
        "\r\n",
        "recall_rfc = cross_val_score(rfc_clf ,X,y,cv=n_folds,scoring ='recall_weighted')\r\n",
        "print('recall_rfc score: ',recall_rfc)\r\n",
        "print('recall_rfc score mean: ', recall_rfc.mean())\r\n",
        "print('--------------------------------------------------------------------------------------------------------')\r\n",
        "f1_NB = cross_val_score(NB_clf ,X,y,cv=n_folds,scoring ='f1_weighted')\r\n",
        "print('f1_NB score: ',f1_NB)\r\n",
        "print('f1_NB score mean: ', f1_NB.mean())\r\n",
        "\r\n",
        "precision_NB = cross_val_score(NB_clf ,X,y,cv=n_folds,scoring ='precision_weighted')\r\n",
        "print('precision_NB score: ',precision_NB)\r\n",
        "print('precision_NB score mean: ', precision_NB.mean())\r\n",
        "\r\n",
        "recall_NB = cross_val_score(NB_clf ,X,y,cv=n_folds,scoring ='recall_weighted')\r\n",
        "print('recall_NB score: ',recall_NB)\r\n",
        "print('recall_NB score mean: ', recall_NB.mean())\r\n",
        "print('--------------------------------------------------------------------------------------------------------')\r\n",
        "f1_NNMLP = cross_val_score(NNMLP_clf ,X,y,cv=n_folds,scoring ='f1_weighted')\r\n",
        "print('f1_NNMLP score: ',f1_NNMLP)\r\n",
        "print('f1_NNMLP score mean: ', f1_NNMLP.mean())\r\n",
        "\r\n",
        "precision_NNMLP = cross_val_score(NNMLP_clf ,X,y,cv=n_folds,scoring ='precision_weighted')\r\n",
        "print('precision_NNMLP score: ',precision_NNMLP)\r\n",
        "print('precision_NNMLP score mean: ', precision_NNMLP.mean())\r\n",
        "\r\n",
        "recall_NNMLP = cross_val_score(NNMLP_clf ,X,y,cv=n_folds,scoring ='recall_weighted')\r\n",
        "print('recall_NNMLP score: ',recall_NNMLP)\r\n",
        "print('recall_NNMLP score mean: ', recall_NNMLP.mean())\r\n",
        "print('--------------------------------------------------------------------------------------------------------')\r\n",
        "f1_svc = cross_val_score(svc_clf ,X,y,cv=n_folds,scoring ='f1_weighted')\r\n",
        "print('f1_svc score: ',f1_svc)\r\n",
        "print('f1_svc score mean: ', f1_svc.mean())\r\n",
        "\r\n",
        "precision_svc = cross_val_score(svc_clf ,X,y,cv=n_folds,scoring ='precision_weighted')\r\n",
        "print('precision_svc score: ',precision_svc)\r\n",
        "print('precision_svc score mean: ', precision_svc.mean())\r\n",
        "\r\n",
        "recall_svc = cross_val_score(svc_clf ,X,y,cv=n_folds,scoring ='recall_weighted')\r\n",
        "print('recall_svc score: ',recall_svc)\r\n",
        "print('recall_svc score mean: ', recall_svc.mean())\r\n",
        "print('--------------------------------------------------------------------------------------------------------')"
      ],
      "execution_count": null,
      "outputs": [
        {
          "output_type": "stream",
          "text": [
            "f1_ada score:  [0.79659203 0.79117148 0.78327172 0.7430033  0.79947187 0.76996621]\n",
            "f1_ada score mean:  0.7805794339114768\n",
            "precision_ada score:  [0.78991477 0.78711467 0.79555012 0.76523676 0.80396882 0.75772662]\n",
            "precision_ada score mean:  0.7832519605156817\n",
            "recall_ada score:  [0.8212503  0.82568735 0.7775929  0.73781792 0.83234292 0.80346248]\n",
            "recall_ada score mean:  0.7996923117555398\n",
            "--------------------------------------------------------------------------------------------------------\n",
            "f1_rfc score:  [0.95953752 0.95949366 0.95558579 0.96642287 0.96233871 0.96163678]\n",
            "f1_rfc score mean:  0.9608358878816649\n",
            "precision_rfc score:  [0.96453968 0.96503441 0.96226212 0.96992377 0.96691788 0.96637833]\n",
            "precision_rfc score mean:  0.9658426975965386\n",
            "recall_rfc score:  [0.96450361 0.96478092 0.96200776 0.96997068 0.96672213 0.96652405]\n",
            "recall_rfc score mean:  0.9657515252357182\n",
            "--------------------------------------------------------------------------------------------------------\n",
            "f1_NB score:  [0.52133782 0.52180424 0.51735696 0.52656009 0.52120134 0.52546639]\n",
            "f1_NB score mean:  0.5222878081253123\n",
            "precision_NB score:  [0.84244627 0.83738081 0.83597765 0.84468576 0.84127816 0.83946602]\n",
            "precision_NB score mean:  0.8402057799427798\n",
            "recall_NB score:  [0.43819824 0.44081293 0.43601933 0.44425957 0.44057523 0.44326915]\n",
            "recall_NB score mean:  0.44052240974037976\n",
            "--------------------------------------------------------------------------------------------------------\n"
          ],
          "name": "stdout"
        },
        {
          "output_type": "stream",
          "text": [
            "/usr/local/lib/python3.6/dist-packages/sklearn/neural_network/_multilayer_perceptron.py:571: ConvergenceWarning: Stochastic Optimizer: Maximum iterations (100) reached and the optimization hasn't converged yet.\n",
            "  % self.max_iter, ConvergenceWarning)\n",
            "/usr/local/lib/python3.6/dist-packages/sklearn/neural_network/_multilayer_perceptron.py:571: ConvergenceWarning: Stochastic Optimizer: Maximum iterations (100) reached and the optimization hasn't converged yet.\n",
            "  % self.max_iter, ConvergenceWarning)\n",
            "/usr/local/lib/python3.6/dist-packages/sklearn/neural_network/_multilayer_perceptron.py:571: ConvergenceWarning: Stochastic Optimizer: Maximum iterations (100) reached and the optimization hasn't converged yet.\n",
            "  % self.max_iter, ConvergenceWarning)\n",
            "/usr/local/lib/python3.6/dist-packages/sklearn/neural_network/_multilayer_perceptron.py:571: ConvergenceWarning: Stochastic Optimizer: Maximum iterations (100) reached and the optimization hasn't converged yet.\n",
            "  % self.max_iter, ConvergenceWarning)\n",
            "/usr/local/lib/python3.6/dist-packages/sklearn/neural_network/_multilayer_perceptron.py:571: ConvergenceWarning: Stochastic Optimizer: Maximum iterations (100) reached and the optimization hasn't converged yet.\n",
            "  % self.max_iter, ConvergenceWarning)\n",
            "/usr/local/lib/python3.6/dist-packages/sklearn/neural_network/_multilayer_perceptron.py:571: ConvergenceWarning: Stochastic Optimizer: Maximum iterations (100) reached and the optimization hasn't converged yet.\n",
            "  % self.max_iter, ConvergenceWarning)\n"
          ],
          "name": "stderr"
        },
        {
          "output_type": "stream",
          "text": [
            "f1_NNMLP score:  [0.98578086 0.98420407 0.98492088 0.9851898  0.98422004 0.98605739]\n",
            "f1_NNMLP score mean:  0.9850621723620798\n"
          ],
          "name": "stdout"
        },
        {
          "output_type": "stream",
          "text": [
            "/usr/local/lib/python3.6/dist-packages/sklearn/neural_network/_multilayer_perceptron.py:571: ConvergenceWarning: Stochastic Optimizer: Maximum iterations (100) reached and the optimization hasn't converged yet.\n",
            "  % self.max_iter, ConvergenceWarning)\n",
            "/usr/local/lib/python3.6/dist-packages/sklearn/neural_network/_multilayer_perceptron.py:571: ConvergenceWarning: Stochastic Optimizer: Maximum iterations (100) reached and the optimization hasn't converged yet.\n",
            "  % self.max_iter, ConvergenceWarning)\n",
            "/usr/local/lib/python3.6/dist-packages/sklearn/neural_network/_multilayer_perceptron.py:571: ConvergenceWarning: Stochastic Optimizer: Maximum iterations (100) reached and the optimization hasn't converged yet.\n",
            "  % self.max_iter, ConvergenceWarning)\n",
            "/usr/local/lib/python3.6/dist-packages/sklearn/neural_network/_multilayer_perceptron.py:571: ConvergenceWarning: Stochastic Optimizer: Maximum iterations (100) reached and the optimization hasn't converged yet.\n",
            "  % self.max_iter, ConvergenceWarning)\n",
            "/usr/local/lib/python3.6/dist-packages/sklearn/neural_network/_multilayer_perceptron.py:571: ConvergenceWarning: Stochastic Optimizer: Maximum iterations (100) reached and the optimization hasn't converged yet.\n",
            "  % self.max_iter, ConvergenceWarning)\n",
            "/usr/local/lib/python3.6/dist-packages/sklearn/neural_network/_multilayer_perceptron.py:571: ConvergenceWarning: Stochastic Optimizer: Maximum iterations (100) reached and the optimization hasn't converged yet.\n",
            "  % self.max_iter, ConvergenceWarning)\n"
          ],
          "name": "stderr"
        },
        {
          "output_type": "stream",
          "text": [
            "precision_NNMLP score:  [0.98590161 0.9843013  0.98492509 0.9851494  0.98436781 0.9861752 ]\n",
            "precision_NNMLP score mean:  0.9851367333480189\n"
          ],
          "name": "stdout"
        },
        {
          "output_type": "stream",
          "text": [
            "/usr/local/lib/python3.6/dist-packages/sklearn/neural_network/_multilayer_perceptron.py:571: ConvergenceWarning: Stochastic Optimizer: Maximum iterations (100) reached and the optimization hasn't converged yet.\n",
            "  % self.max_iter, ConvergenceWarning)\n",
            "/usr/local/lib/python3.6/dist-packages/sklearn/neural_network/_multilayer_perceptron.py:571: ConvergenceWarning: Stochastic Optimizer: Maximum iterations (100) reached and the optimization hasn't converged yet.\n",
            "  % self.max_iter, ConvergenceWarning)\n",
            "/usr/local/lib/python3.6/dist-packages/sklearn/neural_network/_multilayer_perceptron.py:571: ConvergenceWarning: Stochastic Optimizer: Maximum iterations (100) reached and the optimization hasn't converged yet.\n",
            "  % self.max_iter, ConvergenceWarning)\n",
            "/usr/local/lib/python3.6/dist-packages/sklearn/neural_network/_multilayer_perceptron.py:571: ConvergenceWarning: Stochastic Optimizer: Maximum iterations (100) reached and the optimization hasn't converged yet.\n",
            "  % self.max_iter, ConvergenceWarning)\n",
            "/usr/local/lib/python3.6/dist-packages/sklearn/neural_network/_multilayer_perceptron.py:571: ConvergenceWarning: Stochastic Optimizer: Maximum iterations (100) reached and the optimization hasn't converged yet.\n",
            "  % self.max_iter, ConvergenceWarning)\n",
            "/usr/local/lib/python3.6/dist-packages/sklearn/neural_network/_multilayer_perceptron.py:571: ConvergenceWarning: Stochastic Optimizer: Maximum iterations (100) reached and the optimization hasn't converged yet.\n",
            "  % self.max_iter, ConvergenceWarning)\n"
          ],
          "name": "stderr"
        },
        {
          "output_type": "stream",
          "text": [
            "recall_NNMLP score:  [0.98573806 0.98435148 0.98522304 0.98538151 0.98411378 0.98597575]\n",
            "recall_NNMLP score mean:  0.985130602435095\n",
            "--------------------------------------------------------------------------------------------------------\n",
            "f1_svc score:  [0.98500915 0.98449518 0.98454848 0.98556398 0.98556703 0.98572289]\n",
            "f1_svc score mean:  0.9851511190895382\n",
            "precision_svc score:  [0.98545933 0.98505418 0.98513597 0.98593992 0.98610207 0.98605225]\n",
            "precision_svc score mean:  0.9856239527585725\n",
            "recall_svc score:  [0.98569844 0.98530227 0.98534189 0.98625307 0.98625307 0.9863323 ]\n",
            "recall_svc score mean:  0.9858635079100969\n",
            "--------------------------------------------------------------------------------------------------------\n"
          ],
          "name": "stdout"
        }
      ]
    },
    {
      "cell_type": "code",
      "metadata": {
        "id": "s1ZLCIIubXOt"
      },
      "source": [
        "f1_gbc = cross_val_score(gbc_clf ,X,y,cv=n_folds,scoring ='f1_weighted')\r\n",
        "print('f1_gbc score: ',f1_gbc)\r\n",
        "print('f1_gbc score mean: ', f1_gbc.mean())\r\n",
        "\r\n",
        "precision_gbc = cross_val_score(gbc_clf ,X,y,cv=n_folds,scoring ='precision_weighted')\r\n",
        "print('precision_gbc score: ',precision_gbc)\r\n",
        "print('precision_gbc score mean: ', precision_gbc.mean())\r\n",
        "\r\n",
        "recall_gbc = cross_val_score(gbc_clf ,X,y,cv=n_folds,scoring ='recall_weighted')\r\n",
        "print('recall_gbc score: ',recall_gbc)\r\n",
        "print('recall_gbc score mean: ', recall_gbc.mean())"
      ],
      "execution_count": null,
      "outputs": []
    }
  ]
}